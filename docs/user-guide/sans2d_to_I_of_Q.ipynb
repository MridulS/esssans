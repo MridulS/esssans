{
 "cells": [
  {
   "cell_type": "markdown",
   "id": "9a935df3-c816-4829-99c3-2afa979b7611",
   "metadata": {},
   "source": [
    "# SANS2D: I(Q) workflow for a single run (sample)\n",
    "\n",
    "This notebook describes in detail the steps that are undertaken in the `sans.to_I_of_Q` workflow.\n",
    "\n",
    "It assumes the detector data has been recorded in event mode, while the monitor data has been histogrammed.\n",
    "\n",
    "The data used in this notebook has been published in [Manasi et al. (2021)](#manasi2021),\n",
    "and we kindly thank the authors for allowing us to use their data.\n",
    "\n",
    "**Note:** It uses sample run for simplicity and it is not intended to describe complete data reduction pipeline.\n",
    "The complete pipeline is described in [SANS2D reduction](sans2d_reduction.ipynb).\n",
    "\n",
    "**Outline:**\n",
    "\n",
    "- We will begin by loading the data files containing the sample and the direct (empty sample holder) measurements.\n",
    "- We will then apply some corrections to beamline components specific to the SANS2D beamline.\n",
    "- This will be followed by some masking of some saturated or defect detector pixels\n",
    "- Both sample and direct measurement, as well as their monitors, will then be converted to wavelength\n",
    "- From the direct run, and the direct beam function, the normalization term will be computed\n",
    "- Both sample measurement and normalization term will be converted to $Q$\n",
    "- Finally, the sample counts (as a function of $Q$) will be divided by the normalization term (as a function of $Q$)"
   ]
  },
  {
   "cell_type": "code",
   "execution_count": null,
   "id": "8c7f7cf7-0582-4953-a772-a0f87d1cf0e2",
   "metadata": {
    "tags": []
   },
   "outputs": [],
   "source": [
    "import scipp as sc\n",
    "import esssans as sans\n",
    "from esssans.types import *\n",
    "from esssans.logging import configure_workflow\n",
    "import scippneutron as scn\n",
    "import sciline"
   ]
  },
  {
   "cell_type": "markdown",
   "id": "42f0d79d-0147-4928-bd45-c0932a33fae1",
   "metadata": {},
   "source": [
    "Set up the logging systems of scipp (including scippneutron and ess) and Mantid."
   ]
  },
  {
   "cell_type": "code",
   "execution_count": null,
   "id": "760adfde-01e6-4d25-bc8d-b8bbd20c0467",
   "metadata": {
    "tags": []
   },
   "outputs": [],
   "source": [
    "logger = configure_workflow('sans2d_I_of_Q', filename='sans2d.log')"
   ]
  },
  {
   "cell_type": "markdown",
   "id": "c21564a8-e742-4183-9edc-2c70c51d5863",
   "metadata": {},
   "source": [
    "## Define reduction parameters\n",
    "\n",
    "We define here whether to include the effects of gravity, and the binning in wavelength and in $Q$ to be used."
   ]
  },
  {
   "cell_type": "code",
   "execution_count": null,
   "id": "bc2fffe1-a694-43b7-9234-e31da42d6df3",
   "metadata": {
    "tags": []
   },
   "outputs": [],
   "source": [
    "from esssans.data import get_path\n",
    "\n",
    "params = {}\n",
    "params[NeXusMonitorName[Incident]] = 'monitor2'\n",
    "params[NeXusMonitorName[Transmission]] = 'monitor4'\n",
    "band = sc.linspace('wavelength', 2.0, 16.0, num=2, unit='angstrom')\n",
    "params[WavelengthBands] = band\n",
    "params[WavelengthBins] = sc.linspace(\n",
    "    'wavelength', start=band[0], stop=band[-1], num=141\n",
    ")\n",
    "params[WavelengthMask] = sc.DataArray(\n",
    "    data=sc.array(dims=['wavelength'], values=[True]),\n",
    "    coords={\n",
    "        'wavelength': sc.array(\n",
    "            dims=['wavelength'], values=[2.21, 2.59], unit='angstrom'\n",
    "        )\n",
    "    },\n",
    ")\n",
    "\n",
    "params[QBins] = sc.linspace(dim='Q', start=0.01, stop=0.6, num=141, unit='1/angstrom')\n",
    "params[Filename[BackgroundRun]] = get_path('SANS2D00063159.hdf5')\n",
    "params[Filename[SampleRun]] = get_path('SANS2D00063114.hdf5')\n",
    "params[Filename[DirectRun]] = get_path('SANS2D00063091.hdf5')\n",
    "params[DirectBeamFilename] = get_path('DIRECT_SANS2D_REAR_34327_4m_8mm_16Feb16.hdf5')\n",
    "params[BeamCenter] = sc.vector(value=[0.0945643, -0.082074, 0.0], unit='m')\n",
    "params[NonBackgroundWavelengthRange] = sc.array(\n",
    "    dims=['wavelength'], values=[0.7, 17.1], unit='angstrom'\n",
    ")\n",
    "params[CorrectForGravity] = True"
   ]
  },
  {
   "cell_type": "code",
   "execution_count": null,
   "id": "17a01c27",
   "metadata": {},
   "outputs": [],
   "source": [
    "pipeline = sciline.Pipeline(sans.providers, params=params)"
   ]
  },
  {
   "cell_type": "code",
   "execution_count": null,
   "id": "62b0b309",
   "metadata": {},
   "outputs": [],
   "source": [
    "scn.instrument_view(pipeline.compute(MaskedData[SampleRun]).hist(), pixel_size=0.0075)"
   ]
  },
  {
   "cell_type": "code",
   "execution_count": null,
   "id": "c46061d5",
   "metadata": {},
   "outputs": [],
   "source": [
    "scn.instrument_view(\n",
    "    pipeline.compute(Clean[SampleRun, Numerator]).value.hist(), pixel_size=0.0075\n",
    ")"
   ]
  },
  {
   "cell_type": "code",
   "execution_count": null,
   "id": "e734be9e",
   "metadata": {},
   "outputs": [],
   "source": [
    "scn.instrument_view(pipeline.compute(SolidAngle[SampleRun]), pixel_size=0.0075)"
   ]
  },
  {
   "cell_type": "code",
   "execution_count": null,
   "id": "5256b985",
   "metadata": {},
   "outputs": [],
   "source": [
    "denominator = pipeline.get(Clean[SampleRun, Denominator]).compute()\n",
    "denominator.value.sum('spectrum').plot(norm='log')"
   ]
  },
  {
   "cell_type": "code",
   "execution_count": null,
   "id": "fcaae0a6",
   "metadata": {},
   "outputs": [],
   "source": [
    "pipeline.get(BackgroundSubtractedIofQ).visualize(\n",
    "    graph_attr={'size': '20,10', 'rankdir': 'LR'}\n",
    ")"
   ]
  },
  {
   "cell_type": "code",
   "execution_count": null,
   "id": "2507e67c",
   "metadata": {},
   "outputs": [],
   "source": [
    "pipeline.compute(IofQ[SampleRun]).hist().plot()\n",
    "# sc.plot( sc.collapse(pipeline.compute(IofQ[SampleRun]).hist(), keep='Q'))"
   ]
  },
  {
   "cell_type": "code",
   "execution_count": null,
   "id": "81c1aeb0",
   "metadata": {},
   "outputs": [],
   "source": [
    "pipeline.visualize(IofQ[SampleRun], graph_attr={'size': '12,10'})\n",
    "pipeline.visualize(IofQ[BackgroundRun], graph_attr={'size': '12,10'})\n",
    "pipeline.visualize(\n",
    "    BackgroundSubtractedIofQ, graph_attr={'size': '20,10', 'rankdir': 'TD'}\n",
    ")"
   ]
  },
  {
   "cell_type": "code",
   "execution_count": null,
   "id": "5520c721",
   "metadata": {},
   "outputs": [],
   "source": [
    "iofq = pipeline.compute(BackgroundSubtractedIofQ)"
   ]
  },
  {
   "cell_type": "code",
   "execution_count": null,
   "id": "1f939a59",
   "metadata": {},
   "outputs": [],
   "source": [
    "%matplotlib widget\n",
    "iofq.plot()"
   ]
  },
  {
   "cell_type": "code",
   "execution_count": null,
   "id": "78b661f9",
   "metadata": {},
   "outputs": [],
   "source": [
    "pipeline.get(CleanMonitor[SampleRun, Incident]).visualize()"
   ]
  },
  {
   "cell_type": "code",
   "execution_count": null,
   "id": "ed868720",
   "metadata": {},
   "outputs": [],
   "source": [
    "pipeline.compute(CleanMonitor[SampleRun, Incident]).value"
   ]
  },
  {
   "cell_type": "code",
   "execution_count": null,
   "id": "b4e0d5fe",
   "metadata": {},
   "outputs": [],
   "source": [
    "pipeline.get(MaskedData[SampleRun]).visualize()"
   ]
  },
  {
   "cell_type": "markdown",
   "id": "a894f339-0b5f-4334-a926-c3f7d9e23744",
   "metadata": {},
   "source": [
    "We now plot them on the same figure to asses the level of background noise"
   ]
  },
  {
   "cell_type": "code",
   "execution_count": null,
   "id": "2916c3b6-5629-428e-8b8e-95bc8e2d24d8",
   "metadata": {
    "tags": []
   },
   "outputs": [],
   "source": [
    "sc.plot(monitors, norm='log', grid=True)"
   ]
  },
  {
   "cell_type": "markdown",
   "id": "8df4a4f6-4680-4cee-92d9-e548bc4ee06d",
   "metadata": {},
   "source": [
    "From this, we define a wavelength range between 0.7 &#8491; and 17.1 &#8491; where data is not considered to be background."
   ]
  },
  {
   "cell_type": "code",
   "execution_count": null,
   "id": "685b6317-3293-4cba-bef3-51cb797e6ed1",
   "metadata": {
    "tags": []
   },
   "outputs": [],
   "source": [
    "scn.instrument_view(sample.hist(), pixel_size=0.0075)"
   ]
  },
  {
   "cell_type": "markdown",
   "id": "f6b9c630-edcf-4f9f-af43-786c3c868555",
   "metadata": {},
   "source": [
    "## Beam center finder\n",
    "\n",
    "The beam is not guaranteed to travel through the center of the detector panel,\n",
    "and we thus have to apply a horizontal and vertical offset to our pixel positions so that the beam centre is at `x = y = 0`.\n",
    "This is necessary for subsequent azimuthal averaging of the data counts into $Q$ bins.\n",
    "\n",
    "The `beam_center` utility in the `sans` module is designed for this.\n",
    "It requires us to define a $Q$ range over which convergence will be checked."
   ]
  },
  {
   "cell_type": "code",
   "execution_count": null,
   "id": "dc179ced-9cd5-4b3b-a8e3-6c5911c76120",
   "metadata": {
    "tags": []
   },
   "outputs": [],
   "source": [
    "q_range = sc.linspace('Q', 0.02, 0.3, 71, unit='1/angstrom')\n",
    "\n",
    "center = sans.beam_center(\n",
    "    data=sample,\n",
    "    data_monitors=sample_monitors,\n",
    "    direct_monitors=direct_monitors,\n",
    "    wavelength_bins=wavelength_bins,\n",
    "    q_bins=q_range,\n",
    "    gravity=gravity,\n",
    ")\n",
    "print(center)\n",
    "\n",
    "# Now shift pixels positions to get the correct beam center\n",
    "sample.coords['position'] -= center"
   ]
  }
 ],
 "metadata": {
  "kernelspec": {
   "display_name": "Python 3 (ipykernel)",
   "language": "python",
   "name": "python3"
  },
  "language_info": {
   "codemirror_mode": {
    "name": "ipython",
    "version": 3
   },
   "file_extension": ".py",
   "mimetype": "text/x-python",
   "name": "python",
   "nbconvert_exporter": "python",
   "pygments_lexer": "ipython3",
   "version": "3.8.16"
  }
 },
 "nbformat": 4,
 "nbformat_minor": 5
}
