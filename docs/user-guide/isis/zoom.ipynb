{
 "cells": [
  {
   "cell_type": "markdown",
   "id": "ba4d302c",
   "metadata": {},
   "source": [
    "# Zoom data reduction\n",
    "\n",
    "## Introduction\n",
    "\n",
    "This notebook is an example of how ESSsans can be used to reduce data from [Zoom at ISIS](https://www.isis.stfc.ac.uk/Pages/Zoom.aspx).\n",
    "The following description is kept relatively brief, for more context see the rest of the documentation.\n",
    "In particular the [Sans2d](./sans2d.ipynb) notebook may be useful."
   ]
  },
  {
   "cell_type": "markdown",
   "id": "53e2278d",
   "metadata": {},
   "source": [
    "There are a few things that are not yet handled:\n",
    "\n",
    "- TOF or wavelength masks\n",
    "- Position corrections from user file (not automatically, have manual sample and detector bank offsets)\n",
    "\n",
    "We begin with relevant imports:"
   ]
  },
  {
   "cell_type": "code",
   "execution_count": null,
   "id": "319162e9",
   "metadata": {},
   "outputs": [],
   "source": [
    "import scipp as sc\n",
    "from ess import sans\n",
    "from ess import isissans as isis\n",
    "from ess.sans.types import *"
   ]
  },
  {
   "cell_type": "markdown",
   "id": "d1bb87a9",
   "metadata": {},
   "source": [
    "## Create and configure the workflow\n",
    "\n",
    "We begin by creating the Zoom workflow object (this is a [sciline.Pipeline](https://scipp.github.io/sciline/generated/classes/sciline.Pipeline.html) which can be consulted for advanced usage).\n",
    "The Zoom workflow uses Mantid to load files.\n",
    "This tutorial comes with files that do not require Mantid, so we use slightly modified a workflow that does not require Mantid:"
   ]
  },
  {
   "cell_type": "code",
   "execution_count": null,
   "id": "955bbc91",
   "metadata": {},
   "outputs": [],
   "source": [
    "workflow = isis.zoom.ZoomTutorialWorkflow()\n",
    "# For real data use:\n",
    "# workflow = isis.zoom.ZoomWorkflow()"
   ]
  },
  {
   "cell_type": "markdown",
   "id": "11f1c03b",
   "metadata": {},
   "source": [
    "We can insert steps for configuring the workflow:"
   ]
  },
  {
   "cell_type": "code",
   "execution_count": null,
   "id": "0f199e59",
   "metadata": {},
   "outputs": [],
   "source": [
    "workflow.insert(isis.data.transmission_from_background_run)\n",
    "workflow.insert(isis.data.transmission_from_sample_run)\n",
    "workflow.insert(sans.beam_center_from_center_of_mass)"
   ]
  },
  {
   "cell_type": "markdown",
   "id": "b2a3c480",
   "metadata": {},
   "source": [
    "The workflow lacks some input parameters, as well as parameters where we do not want to use the defaults, which we can set now:"
   ]
  },
  {
   "cell_type": "code",
   "execution_count": null,
   "id": "50f11eb2",
   "metadata": {},
   "outputs": [],
   "source": [
    "workflow[NeXusMonitorName[Incident]] = 'monitor3'\n",
    "workflow[NeXusMonitorName[Transmission]] = 'monitor5'\n",
    "\n",
    "workflow[WavelengthBins] = sc.geomspace(\n",
    "    'wavelength', start=1.75, stop=16.5, num=141, unit='angstrom'\n",
    ")\n",
    "\n",
    "workflow[QBins] = sc.geomspace(\n",
    "    dim='Q', start=0.004, stop=0.8, num=141, unit='1/angstrom'\n",
    ")\n",
    "\n",
    "workflow[NonBackgroundWavelengthRange] = sc.array(\n",
    "    dims=['wavelength'], values=[0.7, 17.1], unit='angstrom'\n",
    ")\n",
    "workflow[CorrectForGravity] = True\n",
    "workflow[UncertaintyBroadcastMode] = UncertaintyBroadcastMode.upper_bound\n",
    "workflow[ReturnEvents] = False"
   ]
  },
  {
   "cell_type": "markdown",
   "id": "1f22567f",
   "metadata": {},
   "source": [
    "## Configuring data to load\n",
    "\n",
    "We have not configured which files we want to load.\n",
    "In this tutorial, we use a helper to get the tutorial data and set the corresponding `DataFolder` and filenames.\n",
    "In a real use case, you would set these parameters manually:"
   ]
  },
  {
   "cell_type": "code",
   "execution_count": null,
   "id": "9e7cfc82",
   "metadata": {},
   "outputs": [],
   "source": [
    "workflow[DataFolder] = isis.data.get_zoom_tutorial_data_folder()\n",
    "workflow[DirectBeamFilename] = 'Direct_Zoom_4m_8mm_100522.txt.h5'\n",
    "workflow[isis.CalibrationFilename] = '192tubeCalibration_11-02-2019_r5_10lines.nxs'\n",
    "workflow[Filename[SampleRun]] = 'ZOOM00034786.nxs.h5.zip.unzip/ZOOM00034786.nxs.h5'\n",
    "workflow[Filename[EmptyBeamRun]] = 'ZOOM00034787.nxs.h5'\n",
    "workflow[isis.SampleOffset] = sc.vector([0.0, 0.0, 0.11], unit='m')\n",
    "workflow[isis.DetectorBankOffset] = sc.vector([0.0, 0.0, 0.5], unit='m')\n",
    "masks = [\n",
    "    'andru_test.xml',\n",
    "    'left_beg_18_2.xml',\n",
    "    'right_beg_18_2.xml',\n",
    "    'small_bs_232.xml',\n",
    "    'small_BS_31032023.xml',\n",
    "    'tube_1120_bottom.xml',\n",
    "    'tubes_beg_18_2.xml',\n",
    "]\n",
    "workflow.set_param_series(PixelMaskFilename, masks)"
   ]
  },
  {
   "cell_type": "markdown",
   "id": "a75ee3ca",
   "metadata": {},
   "source": [
    "The workflow can be visualized as a graph:"
   ]
  },
  {
   "cell_type": "code",
   "execution_count": null,
   "id": "cb572094",
   "metadata": {},
   "outputs": [],
   "source": [
    "# left-right layout works better for this graph\n",
    "workflow.visualize(IofQ[SampleRun], graph_attr={'rankdir': 'LR'})"
   ]
  },
  {
   "cell_type": "markdown",
   "id": "02c5969c",
   "metadata": {},
   "source": [
    "## Use the workflow\n",
    "\n",
    "### Compute final result\n",
    "\n",
    "We can now compute $I(Q)$:"
   ]
  },
  {
   "cell_type": "code",
   "execution_count": null,
   "id": "558327ff",
   "metadata": {},
   "outputs": [],
   "source": [
    "da = workflow.compute(IofQ[SampleRun])\n",
    "da.plot(norm='log', scale={'Q': 'log'})"
   ]
  },
  {
   "cell_type": "markdown",
   "id": "5a7526fc",
   "metadata": {},
   "source": [
    "### Compute intermediate results"
   ]
  },
  {
   "cell_type": "code",
   "execution_count": null,
   "id": "bb922379",
   "metadata": {},
   "outputs": [],
   "source": [
    "monitors = (\n",
    "    WavelengthMonitor[SampleRun, Incident],\n",
    "    WavelengthMonitor[SampleRun, Transmission],\n",
    ")\n",
    "parts = (CleanSummedQ[SampleRun, Numerator], CleanSummedQ[SampleRun, Denominator])\n",
    "iofqs = (IofQ[SampleRun],)\n",
    "keys = monitors + (MaskedData[SampleRun],) + parts + iofqs\n",
    "\n",
    "results = workflow.compute(keys)\n",
    "\n",
    "display(sc.plot({str(key): results[key] for key in monitors}, norm='log'))\n",
    "\n",
    "display(\n",
    "    isis.plot_flat_detector_xy(\n",
    "        results[MaskedData[SampleRun]], norm='log', figsize=(6, 10)\n",
    "    )\n",
    ")\n",
    "\n",
    "wavelength = workflow.compute(WavelengthBins)\n",
    "display(\n",
    "    results[CleanSummedQ[SampleRun, Numerator]]\n",
    "    .hist(wavelength=wavelength)\n",
    "    .transpose()\n",
    "    .plot(norm='log')\n",
    ")\n",
    "display(results[CleanSummedQ[SampleRun, Denominator]].plot(norm='log'))\n",
    "parts = {str(key): results[key] for key in parts}\n",
    "parts = {\n",
    "    key: val.sum('wavelength') if val.bins is None else val.hist()\n",
    "    for key, val in parts.items()\n",
    "}\n",
    "display(sc.plot(parts, norm='log', scale={'Q': 'log'}))\n",
    "\n",
    "iofqs = {str(key): results[key] for key in iofqs}\n",
    "iofqs = {key: val if val.bins is None else val.hist() for key, val in iofqs.items()}\n",
    "display(sc.plot(iofqs, norm='log', scale={'Q': 'log'}, aspect='equal'))"
   ]
  },
  {
   "cell_type": "markdown",
   "id": "e63318c7-4d63-4133-97c3-feb56707caba",
   "metadata": {},
   "source": [
    "## Computing Qx/Qy\n",
    "\n",
    "To compute $I(Q_{x}, Q_{y})$ instead of the one-dimensional $I(Q)$, we can compute `IofQxy` instead of `IofQ`.\n",
    "For this to work, we need to define `QxBins` and `QyBins` in our parameters:"
   ]
  },
  {
   "cell_type": "code",
   "execution_count": null,
   "id": "3879702d-424a-462f-8475-6056116d7d35",
   "metadata": {},
   "outputs": [],
   "source": [
    "workflow[QxBins] = sc.linspace('Qx', start=-0.5, stop=0.5, num=101, unit='1/angstrom')\n",
    "workflow[QyBins] = sc.linspace('Qy', start=-0.8, stop=0.8, num=101, unit='1/angstrom')\n",
    "\n",
    "iqxqy = workflow.compute(IofQxy[SampleRun])\n",
    "iqxqy.plot(norm='log', aspect='equal')"
   ]
  }
 ],
 "metadata": {
  "kernelspec": {
   "display_name": "Python 3 (ipykernel)",
   "language": "python",
   "name": "python3"
  },
  "language_info": {
   "codemirror_mode": {
    "name": "ipython",
    "version": 3
   },
   "file_extension": ".py",
   "mimetype": "text/x-python",
   "name": "python",
   "nbconvert_exporter": "python",
   "pygments_lexer": "ipython3",
   "version": "3.10.12"
  }
 },
 "nbformat": 4,
 "nbformat_minor": 5
}
