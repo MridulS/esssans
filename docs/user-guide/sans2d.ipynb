{
 "cells": [
  {
   "cell_type": "markdown",
   "id": "9a935df3-c816-4829-99c3-2afa979b7611",
   "metadata": {},
   "source": [
    "# Sans2d data reduction "
   ]
  },
  {
   "cell_type": "code",
   "execution_count": null,
   "id": "8c7f7cf7-0582-4953-a772-a0f87d1cf0e2",
   "metadata": {
    "tags": []
   },
   "outputs": [],
   "source": [
    "import scipp as sc\n",
    "import sciline\n",
    "import scippneutron as scn\n",
    "import esssans as sans\n",
    "from esssans.types import *"
   ]
  },
  {
   "cell_type": "markdown",
   "id": "c21564a8-e742-4183-9edc-2c70c51d5863",
   "metadata": {},
   "source": [
    "## Define reduction parameters"
   ]
  },
  {
   "cell_type": "code",
   "execution_count": null,
   "id": "bc2fffe1-a694-43b7-9234-e31da42d6df3",
   "metadata": {
    "tags": []
   },
   "outputs": [],
   "source": [
    "params = {}\n",
    "params[NeXusMonitorName[Incident]] = 'monitor2'\n",
    "params[NeXusMonitorName[Transmission]] = 'monitor4'\n",
    "band = sc.linspace('wavelength', 2.0, 16.0, num=2, unit='angstrom')\n",
    "params[WavelengthBands] = band\n",
    "params[WavelengthBins] = sc.linspace(\n",
    "    'wavelength', start=band[0], stop=band[-1], num=141\n",
    ")\n",
    "params[WavelengthMask] = sc.DataArray(\n",
    "    data=sc.array(dims=['wavelength'], values=[True]),\n",
    "    coords={\n",
    "        'wavelength': sc.array(\n",
    "            dims=['wavelength'], values=[2.21, 2.59], unit='angstrom'\n",
    "        )\n",
    "    },\n",
    ")\n",
    "\n",
    "params[QBins] = sc.linspace(dim='Q', start=0.01, stop=0.6, num=141, unit='1/angstrom')\n",
    "params[Filename[BackgroundRun]] = 'SANS2D00063159.hdf5'\n",
    "params[Filename[SampleRun]] = 'SANS2D00063114.hdf5'\n",
    "params[Filename[DirectRun]] = 'SANS2D00063091.hdf5'\n",
    "params[DirectBeamFilename] = 'DIRECT_SANS2D_REAR_34327_4m_8mm_16Feb16.hdf5'\n",
    "params[BeamCenter] = sc.vector(value=[0.0945643, -0.082074, 0.0], unit='m')\n",
    "params[NonBackgroundWavelengthRange] = sc.array(\n",
    "    dims=['wavelength'], values=[0.7, 17.1], unit='angstrom'\n",
    ")\n",
    "params[CorrectForGravity] = True"
   ]
  },
  {
   "cell_type": "markdown",
   "id": "f2c3b542",
   "metadata": {},
   "source": [
    "## Create pipeline using Sciline\n",
    "\n",
    "We use all providers available in `esssans` as well as the `sans2d`-specific providers, which include I/O and mask setup specific to the [Sans2d](https://www.isis.stfc.ac.uk/Pages/sans2d.aspx) instrument:"
   ]
  },
  {
   "cell_type": "code",
   "execution_count": null,
   "id": "17a01c27",
   "metadata": {},
   "outputs": [],
   "source": [
    "providers = sans.providers + sans.sans2d.providers\n",
    "pipeline = sciline.Pipeline(providers, params=params)"
   ]
  },
  {
   "cell_type": "markdown",
   "id": "c19eeaf0",
   "metadata": {},
   "source": [
    "## Use the pipeline\n",
    "\n",
    "### Compute final result\n",
    "\n",
    "We can get the graph for computing the background-subtracted $I(Q)$:"
   ]
  },
  {
   "cell_type": "code",
   "execution_count": null,
   "id": "a48c0f4d",
   "metadata": {},
   "outputs": [],
   "source": [
    "iofq = pipeline.get(BackgroundSubtractedIofQ)"
   ]
  },
  {
   "cell_type": "markdown",
   "id": "07c5c2cb",
   "metadata": {},
   "source": [
    "Before we compute the result, we can visualize the pipeline:"
   ]
  },
  {
   "cell_type": "code",
   "execution_count": null,
   "id": "bc186654",
   "metadata": {},
   "outputs": [],
   "source": [
    "# left-right layout works better for this graph\n",
    "iofq.visualize(graph_attr={'size': '20,10', 'rankdir': 'LR'})"
   ]
  },
  {
   "cell_type": "markdown",
   "id": "505f26fc",
   "metadata": {},
   "source": [
    "Now we can compute the result:"
   ]
  },
  {
   "cell_type": "code",
   "execution_count": null,
   "id": "c8cf57ce",
   "metadata": {},
   "outputs": [],
   "source": [
    "result = iofq.compute()\n",
    "result.plot()"
   ]
  },
  {
   "cell_type": "markdown",
   "id": "f39206c6",
   "metadata": {},
   "source": [
    "### Compute intermediate results"
   ]
  },
  {
   "cell_type": "code",
   "execution_count": null,
   "id": "bb922379",
   "metadata": {},
   "outputs": [],
   "source": [
    "results = iofq.compute((IofQ[SampleRun], IofQ[BackgroundRun]))\n",
    "results[IofQ[BackgroundRun]].hist().plot()"
   ]
  },
  {
   "cell_type": "code",
   "execution_count": null,
   "id": "62b0b309",
   "metadata": {},
   "outputs": [],
   "source": [
    "scn.instrument_view(pipeline.compute(MaskedData[SampleRun]).hist(), pixel_size=0.0075)"
   ]
  },
  {
   "cell_type": "code",
   "execution_count": null,
   "id": "c46061d5",
   "metadata": {},
   "outputs": [],
   "source": [
    "scn.instrument_view(\n",
    "    pipeline.compute(Clean[SampleRun, Numerator]).value.hist(), pixel_size=0.0075\n",
    ")"
   ]
  },
  {
   "cell_type": "code",
   "execution_count": null,
   "id": "e734be9e",
   "metadata": {},
   "outputs": [],
   "source": [
    "scn.instrument_view(pipeline.compute(SolidAngle[SampleRun]), pixel_size=0.0075)"
   ]
  },
  {
   "cell_type": "code",
   "execution_count": null,
   "id": "5256b985",
   "metadata": {},
   "outputs": [],
   "source": [
    "denominator = pipeline.get(Clean[SampleRun, Denominator]).compute()\n",
    "denominator.value.sum('spectrum').plot(norm='log')"
   ]
  },
  {
   "cell_type": "code",
   "execution_count": null,
   "id": "2507e67c",
   "metadata": {},
   "outputs": [],
   "source": [
    "pipeline.compute(IofQ[SampleRun]).hist().plot()\n",
    "# sc.plot( sc.collapse(pipeline.compute(IofQ[SampleRun]).hist(), keep='Q'))"
   ]
  },
  {
   "cell_type": "code",
   "execution_count": null,
   "id": "81c1aeb0",
   "metadata": {},
   "outputs": [],
   "source": [
    "pipeline.visualize(IofQ[SampleRun], graph_attr={'size': '12,10'})\n",
    "pipeline.visualize(IofQ[BackgroundRun], graph_attr={'size': '12,10'})\n",
    "pipeline.visualize(\n",
    "    BackgroundSubtractedIofQ, graph_attr={'size': '20,10', 'rankdir': 'TD'}\n",
    ")"
   ]
  },
  {
   "cell_type": "code",
   "execution_count": null,
   "id": "78b661f9",
   "metadata": {},
   "outputs": [],
   "source": [
    "pipeline.get(CleanMonitor[SampleRun, Incident]).visualize()"
   ]
  },
  {
   "cell_type": "code",
   "execution_count": null,
   "id": "ed868720",
   "metadata": {},
   "outputs": [],
   "source": [
    "pipeline.compute(CleanMonitor[SampleRun, Incident]).value"
   ]
  },
  {
   "cell_type": "code",
   "execution_count": null,
   "id": "b4e0d5fe",
   "metadata": {},
   "outputs": [],
   "source": [
    "pipeline.get(MaskedData[SampleRun]).visualize()"
   ]
  },
  {
   "cell_type": "markdown",
   "id": "a894f339-0b5f-4334-a926-c3f7d9e23744",
   "metadata": {},
   "source": [
    "We now plot them on the same figure to asses the level of background noise"
   ]
  },
  {
   "cell_type": "code",
   "execution_count": null,
   "id": "2916c3b6-5629-428e-8b8e-95bc8e2d24d8",
   "metadata": {
    "tags": []
   },
   "outputs": [],
   "source": [
    "sc.plot(monitors, norm='log', grid=True)"
   ]
  },
  {
   "cell_type": "markdown",
   "id": "8df4a4f6-4680-4cee-92d9-e548bc4ee06d",
   "metadata": {},
   "source": [
    "From this, we define a wavelength range between 0.7 &#8491; and 17.1 &#8491; where data is not considered to be background."
   ]
  },
  {
   "cell_type": "code",
   "execution_count": null,
   "id": "685b6317-3293-4cba-bef3-51cb797e6ed1",
   "metadata": {
    "tags": []
   },
   "outputs": [],
   "source": [
    "scn.instrument_view(sample.hist(), pixel_size=0.0075)"
   ]
  },
  {
   "cell_type": "markdown",
   "id": "f6b9c630-edcf-4f9f-af43-786c3c868555",
   "metadata": {},
   "source": [
    "## Beam center finder\n",
    "\n",
    "The beam is not guaranteed to travel through the center of the detector panel,\n",
    "and we thus have to apply a horizontal and vertical offset to our pixel positions so that the beam centre is at `x = y = 0`.\n",
    "This is necessary for subsequent azimuthal averaging of the data counts into $Q$ bins.\n",
    "\n",
    "The `beam_center` utility in the `sans` module is designed for this.\n",
    "It requires us to define a $Q$ range over which convergence will be checked."
   ]
  },
  {
   "cell_type": "code",
   "execution_count": null,
   "id": "dc179ced-9cd5-4b3b-a8e3-6c5911c76120",
   "metadata": {
    "tags": []
   },
   "outputs": [],
   "source": [
    "q_range = sc.linspace('Q', 0.02, 0.3, 71, unit='1/angstrom')\n",
    "\n",
    "center = sans.beam_center(\n",
    "    data=sample,\n",
    "    data_monitors=sample_monitors,\n",
    "    direct_monitors=direct_monitors,\n",
    "    wavelength_bins=wavelength_bins,\n",
    "    q_bins=q_range,\n",
    "    gravity=gravity,\n",
    ")\n",
    "print(center)\n",
    "\n",
    "# Now shift pixels positions to get the correct beam center\n",
    "sample.coords['position'] -= center"
   ]
  }
 ],
 "metadata": {
  "kernelspec": {
   "display_name": "Python 3 (ipykernel)",
   "language": "python",
   "name": "python3"
  },
  "language_info": {
   "codemirror_mode": {
    "name": "ipython",
    "version": 3
   },
   "file_extension": ".py",
   "mimetype": "text/x-python",
   "name": "python",
   "nbconvert_exporter": "python",
   "pygments_lexer": "ipython3",
   "version": "3.10.12"
  }
 },
 "nbformat": 4,
 "nbformat_minor": 5
}
