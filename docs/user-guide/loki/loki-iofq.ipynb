{
 "cells": [
  {
   "cell_type": "markdown",
   "id": "0",
   "metadata": {},
   "source": [
    "# LoKI: data reduction from Larmor detector test\n",
    "\n",
    "This notebook shows how to use the `LokiAtLarmorWorkflow` to reduce data acquired during the 2022 LoKI detector test at Larmor.\n",
    "\n",
    "We will set up a standard workflow that computes a one-dimensional $I(Q)$ from the raw data,\n",
    "and re-use the workflow for 4 different samples:\n",
    "\n",
    "- ISIS polymer\n",
    "- AgBeh\n",
    "- Porous silica\n",
    "- deut-SDS"
   ]
  },
  {
   "cell_type": "code",
   "execution_count": null,
   "id": "1",
   "metadata": {
    "tags": []
   },
   "outputs": [],
   "source": [
    "import scipp as sc\n",
    "import plopp as pp\n",
    "from ess import sans\n",
    "from ess import loki\n",
    "import ess.loki.data  # noqa: F401\n",
    "from ess.sans.types import *"
   ]
  },
  {
   "cell_type": "markdown",
   "id": "2",
   "metadata": {},
   "source": [
    "## Create and configure the workflow\n",
    "\n",
    "We begin by creating the Loki workflow object:"
   ]
  },
  {
   "cell_type": "code",
   "execution_count": null,
   "id": "731c63c7-af81-4e16-aa85-baf5935efc60",
   "metadata": {},
   "outputs": [],
   "source": [
    "workflow = loki.LokiAtLarmorWorkflow()\n",
    "\n",
    "# Load masks from files\n",
    "workflow = sans.with_pixel_mask_filenames(\n",
    "    workflow, masks=loki.data.loki_tutorial_mask_filenames()\n",
    ")\n",
    "# Set detector bank name: in this case there is only one bank\n",
    "workflow[NeXusDetectorName] = \"larmor_detector\"\n",
    "\n",
    "# Wavelength and Q binning parameters\n",
    "workflow[WavelengthBins] = sc.linspace(\"wavelength\", 1.0, 13.0, 201, unit=\"angstrom\")\n",
    "workflow[QBins] = sc.linspace(dim=\"Q\", start=0.01, stop=0.3, num=101, unit=\"1/angstrom\")\n",
    "\n",
    "# Other parameters\n",
    "workflow[CorrectForGravity] = True\n",
    "workflow[UncertaintyBroadcastMode] = UncertaintyBroadcastMode.upper_bound\n",
    "workflow[ReturnEvents] = False"
   ]
  },
  {
   "cell_type": "markdown",
   "id": "47d5790b-c7bf-4ff4-9ed2-17d00bff84c5",
   "metadata": {},
   "source": [
    "### File common to all runs\n",
    "\n",
    "We set files that are common to all sample runs, namely the background, empty beam and direct beam files:"
   ]
  },
  {
   "cell_type": "code",
   "execution_count": null,
   "id": "f4515c5a-b55e-45ce-9067-e7d13add6f54",
   "metadata": {},
   "outputs": [],
   "source": [
    "workflow[Filename[BackgroundRun]] = loki.data.loki_tutorial_background_run_60393()\n",
    "workflow[Filename[TransmissionRun[BackgroundRun]]] = loki.data.loki_tutorial_run_60392()\n",
    "workflow[Filename[EmptyBeamRun]] = loki.data.loki_tutorial_run_60392()\n",
    "workflow[DirectBeamFilename] = loki.data.loki_tutorial_direct_beam_all_pixels()"
   ]
  },
  {
   "cell_type": "markdown",
   "id": "10",
   "metadata": {},
   "source": [
    "## ISIS Polymer sample\n",
    "\n",
    "We configure the files to load"
   ]
  },
  {
   "cell_type": "code",
   "execution_count": null,
   "id": "f2da4863-003d-4c8f-b476-2ecabf1808c4",
   "metadata": {},
   "outputs": [],
   "source": [
    "workflow[Filename[SampleRun]] = loki.data.loki_tutorial_isis_polymer_sample_run()\n",
    "workflow[Filename[TransmissionRun[SampleRun]]] = (\n",
    "    loki.data.loki_tutorial_isis_polymer_transmission_run()\n",
    ")"
   ]
  },
  {
   "cell_type": "markdown",
   "id": "12",
   "metadata": {},
   "source": [
    "### Computing the beam center\n",
    "\n",
    "We use a center-of-mass approach to find the beam center:"
   ]
  },
  {
   "cell_type": "code",
   "execution_count": null,
   "id": "13",
   "metadata": {},
   "outputs": [],
   "source": [
    "center = sans.beam_center_from_center_of_mass(workflow)\n",
    "center"
   ]
  },
  {
   "cell_type": "markdown",
   "id": "14",
   "metadata": {},
   "source": [
    "and set that value in our workflow"
   ]
  },
  {
   "cell_type": "code",
   "execution_count": null,
   "id": "15",
   "metadata": {},
   "outputs": [],
   "source": [
    "workflow[BeamCenter] = center"
   ]
  },
  {
   "cell_type": "markdown",
   "id": "c80daf44-038e-4da5-991b-dd202bf7f368",
   "metadata": {},
   "source": [
    "### Visualizing the workflow\n",
    "\n",
    "It is always a good idea to visualize the workflow graph, as a sanity check."
   ]
  },
  {
   "cell_type": "code",
   "execution_count": null,
   "id": "b4f9ae00-ad1b-41eb-a8ea-405f32545e2c",
   "metadata": {},
   "outputs": [],
   "source": [
    "workflow.visualize(BackgroundSubtractedIofQ, compact=True, graph_attr={\"rankdir\": \"LR\"})"
   ]
  },
  {
   "cell_type": "markdown",
   "id": "5f460f94-f705-4018-987a-77a9257152e2",
   "metadata": {},
   "source": [
    "### Intermediate result: transmission fraction"
   ]
  },
  {
   "cell_type": "code",
   "execution_count": null,
   "id": "a1ace946-d0f3-4aa4-a0db-3813acc63c05",
   "metadata": {},
   "outputs": [],
   "source": [
    "tf = workflow.compute(TransmissionFraction[SampleRun])\n",
    "tf.plot()"
   ]
  },
  {
   "cell_type": "markdown",
   "id": "b829f01d-eabd-4719-beac-b1297dcb53d3",
   "metadata": {},
   "source": [
    "### Compute I(Q)"
   ]
  },
  {
   "cell_type": "code",
   "execution_count": null,
   "id": "ddc0660d-89fb-419d-987f-9468d473e164",
   "metadata": {},
   "outputs": [],
   "source": [
    "da = workflow.compute(BackgroundSubtractedIofQ)\n",
    "da.plot(norm=\"log\", title=\"ISIS polymer\")"
   ]
  },
  {
   "cell_type": "markdown",
   "id": "50c11c67-b5bb-4d3c-b226-7fe6e38d2089",
   "metadata": {},
   "source": [
    "### Wavelength bands"
   ]
  },
  {
   "cell_type": "code",
   "execution_count": null,
   "id": "1bf69f03-b053-4f17-9f50-a68c49de9023",
   "metadata": {},
   "outputs": [],
   "source": [
    "workflow[WavelengthBands] = sc.linspace(\"wavelength\", 1.0, 13.0, 11, unit=\"angstrom\")\n",
    "da_bands = workflow.compute(BackgroundSubtractedIofQ)\n",
    "da_bands"
   ]
  },
  {
   "cell_type": "code",
   "execution_count": null,
   "id": "2b723daf-8f0a-4155-ba4c-3390110eb74b",
   "metadata": {},
   "outputs": [],
   "source": [
    "pp.plot(sc.collapse(da_bands, keep=\"Q\"), norm=\"log\", title=\"ISIS polymer\")"
   ]
  },
  {
   "cell_type": "markdown",
   "id": "659b1f86-1371-4320-8fc2-1e709a1db04d",
   "metadata": {},
   "source": [
    "## AgBeh sample"
   ]
  },
  {
   "cell_type": "code",
   "execution_count": null,
   "id": "e1b84f92-3ad5-4d87-b12d-8939e4d5ac28",
   "metadata": {},
   "outputs": [],
   "source": [
    "# Reset wavelength bands\n",
    "workflow[WavelengthBands] = None\n",
    "\n",
    "workflow[Filename[SampleRun]] = loki.data.loki_tutorial_agbeh_sample_run()\n",
    "workflow[Filename[TransmissionRun[SampleRun]]] = (\n",
    "    loki.data.loki_tutorial_agbeh_transmission_run()\n",
    ")"
   ]
  },
  {
   "cell_type": "code",
   "execution_count": null,
   "id": "398937de-f296-472a-9140-68b2267865d4",
   "metadata": {},
   "outputs": [],
   "source": [
    "# Beam center\n",
    "workflow[BeamCenter] = sans.beam_center_from_center_of_mass(workflow)"
   ]
  },
  {
   "cell_type": "code",
   "execution_count": null,
   "id": "4b57c72c-12ec-411a-8644-c19d0dd5431c",
   "metadata": {},
   "outputs": [],
   "source": [
    "# I(Q)\n",
    "da = workflow.compute(BackgroundSubtractedIofQ)\n",
    "da.plot(norm=\"log\", title=\"AgBeh sample\")"
   ]
  },
  {
   "cell_type": "markdown",
   "id": "fd4bd3fb-eff3-4f59-817a-979642c2bc3b",
   "metadata": {},
   "source": [
    "## Porous Silica"
   ]
  },
  {
   "cell_type": "code",
   "execution_count": null,
   "id": "6c4c2603-0266-4ccf-8952-c708bebe30b3",
   "metadata": {},
   "outputs": [],
   "source": [
    "workflow[Filename[SampleRun]] = loki.data.loki_tutorial_porous_silica_sample_run()\n",
    "workflow[Filename[TransmissionRun[SampleRun]]] = (\n",
    "    loki.data.loki_tutorial_porous_silica_transmission_run()\n",
    ")\n",
    "\n",
    "# Beam center\n",
    "workflow[BeamCenter] = sans.beam_center_from_center_of_mass(workflow)\n",
    "\n",
    "# I(Q)\n",
    "da = workflow.compute(BackgroundSubtractedIofQ)\n",
    "da.plot(norm=\"log\", title=\"Porous silica\")"
   ]
  },
  {
   "cell_type": "markdown",
   "id": "b87c1eeb-ef95-4a94-9b0d-d0e9a5076d19",
   "metadata": {},
   "source": [
    "## Deut-SDS"
   ]
  },
  {
   "cell_type": "code",
   "execution_count": null,
   "id": "e8f8e881-f2e2-4bc3-96d5-63c26608d367",
   "metadata": {},
   "outputs": [],
   "source": [
    "workflow[Filename[SampleRun]] = loki.data.loki_tutorial_deut_sds_sample_run()\n",
    "workflow[Filename[TransmissionRun[SampleRun]]] = (\n",
    "    loki.data.loki_tutorial_deut_sds_transmission_run()\n",
    ")\n",
    "\n",
    "# Beam center\n",
    "workflow[BeamCenter] = sans.beam_center_from_center_of_mass(workflow)\n",
    "\n",
    "# I(Q)\n",
    "da = workflow.compute(BackgroundSubtractedIofQ)\n",
    "da.plot(norm=\"log\", title=\"deut-SDS\")"
   ]
  }
 ],
 "metadata": {
  "kernelspec": {
   "display_name": "Python 3 (ipykernel)",
   "language": "python",
   "name": "python3"
  },
  "language_info": {
   "codemirror_mode": {
    "name": "ipython",
    "version": 3
   },
   "file_extension": ".py",
   "mimetype": "text/x-python",
   "name": "python",
   "nbconvert_exporter": "python",
   "pygments_lexer": "ipython3"
  }
 },
 "nbformat": 4,
 "nbformat_minor": 5
}
