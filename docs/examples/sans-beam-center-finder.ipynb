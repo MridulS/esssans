{
 "cells": [
  {
   "cell_type": "markdown",
   "id": "fc46c62a-499c-4b12-a65d-f40946f5f46f",
   "metadata": {},
   "source": [
    "# Beam center finder\n",
    "\n",
    "In SANS experiments, it is essential to find the center of the scattering pattern in order to allow symmetric summation of the scattering intensity around the beam (i.e. computing a one-dimensional $I(Q)$).\n",
    "As detector panels can move, the center of the beam will not always be located at the same place on the detector panel from one experiment to the next.\n",
    "\n",
    "Here we describe two different algorithms that can be used to determine the position of the beam center:\n",
    "\n",
    "1. using the center of mass of the pixel counts\n",
    "1. using an iterative refinement on a computed scattering cross-section to find the center of the scattering pattern"
   ]
  },
  {
   "cell_type": "code",
   "execution_count": null,
   "id": "f68a06b0-8982-43b2-b180-942c3dd49b5e",
   "metadata": {
    "tags": []
   },
   "outputs": [],
   "source": [
    "import scipp as sc\n",
    "import plopp as pp\n",
    "import sciline as sl\n",
    "import esssans as sans\n",
    "from esssans.isis import plot_flat_detector_xy\n",
    "from esssans.types import *"
   ]
  },
  {
   "cell_type": "code",
   "execution_count": null,
   "id": "619ee7a0-dd80-4b8b-8c59-5c5e29fbb039",
   "metadata": {},
   "outputs": [],
   "source": []
  },
  {
   "cell_type": "code",
   "execution_count": null,
   "id": "d3a56490-518c-44ce-8731-98504ebc3ce8",
   "metadata": {},
   "outputs": [],
   "source": []
  },
  {
   "cell_type": "markdown",
   "id": "e84bd5a5-8bed-459b-ad8c-0d04aa6117e0",
   "metadata": {},
   "source": [
    "We begin by setting some parameters relevant to the current sample."
   ]
  },
  {
   "cell_type": "code",
   "execution_count": null,
   "id": "327a8b3c-fdde-45cd-9f29-dc33f9bb101d",
   "metadata": {},
   "outputs": [],
   "source": [
    "params = sans.sans2d.default_parameters.copy()\n",
    "\n",
    "params[FileList[SampleRun]] = ['SANS2D00063114.hdf5']\n",
    "params[sans.sans2d.LowCountThreshold] = sc.scalar(100.0, unit='counts')"
   ]
  },
  {
   "cell_type": "code",
   "execution_count": null,
   "id": "7224f0ed-b26e-42a8-8a24-3fccc7e0de19",
   "metadata": {
    "tags": []
   },
   "outputs": [],
   "source": [
    "# # Include effects of gravity?\n",
    "# gravity = True\n",
    "\n",
    "# # Wavelength binning\n",
    "# wavelength_bins = sc.linspace(\n",
    "#     dim='wavelength', start=2.0, stop=16.0, num=141, unit='angstrom'\n",
    "# )\n",
    "\n",
    "# # Define Q binning\n",
    "# q_bins = sc.linspace('Q', 0.02, 0.3, 71, unit='1/angstrom')\n",
    "\n",
    "# # Define coordinate transformation graph\n",
    "# graph = sans.conversions.sans_elastic(gravity=gravity)"
   ]
  },
  {
   "cell_type": "markdown",
   "id": "e42a73ba-5f47-44b9-b700-f8b947412b02",
   "metadata": {},
   "source": [
    "Next we load the data files for the sample and direct runs:"
   ]
  },
  {
   "cell_type": "code",
   "execution_count": null,
   "id": "323e7114-be3c-40ee-9661-6ec74439938f",
   "metadata": {
    "tags": []
   },
   "outputs": [],
   "source": [
    "# sample = loki.io.load_sans2d(filename=loki.data.get_path('SANS2D00063114.hdf5'))\n",
    "# direct = loki.io.load_sans2d(filename=loki.data.get_path('SANS2D00063091.hdf5'))\n",
    "# # Add X, Y coordinates\n",
    "# sample.coords['x'] = sample.coords['position'].fields.x\n",
    "# sample.coords['y'] = sample.coords['position'].fields.y\n",
    "# # Add gravity coordinate\n",
    "# sample.coords[\"gravity\"] = sc.vector(value=[0, -1, 0]) * g"
   ]
  },
  {
   "cell_type": "markdown",
   "id": "1ae3315b-ab76-4fbc-9d6e-594b31d2fae6",
   "metadata": {},
   "source": [
    "### Masking bad pixels\n",
    "\n",
    "We create a quick image of the data (summing along the `tof` dimension) to inspect its contents.\n",
    "We see a diffuse scattering pattern, centered around a dark patch with an arm to the north-east; this is the sample holder.\n",
    "It is clear that the sample and the beam are not in the center of the panel, which is marked by the red dot"
   ]
  },
  {
   "cell_type": "code",
   "execution_count": null,
   "id": "dfb0702a-252b-4f5b-b72b-df4cd93a7e5e",
   "metadata": {},
   "outputs": [],
   "source": [
    "providers = list(sans.providers + sans.sans2d.providers)\n",
    "pipeline = sciline.Pipeline(providers, params=params)"
   ]
  },
  {
   "cell_type": "code",
   "execution_count": null,
   "id": "20220cb0-3dbf-4588-a579-68bdd2afa198",
   "metadata": {},
   "outputs": [],
   "source": [
    "pipeline.visualize(MaskedData[SampleRun], graph_attr={'rankdir': 'LR'})"
   ]
  },
  {
   "cell_type": "code",
   "execution_count": null,
   "id": "fdc562a4-7cd5-43fa-8921-5f12a062ecfb",
   "metadata": {},
   "outputs": [],
   "source": [
    "raw = pipeline.compute(RawData[SampleRun])\n",
    "\n",
    "p = plot_flat_detector_xy(raw.sum('tof'), norm='log')\n",
    "p.ax.plot(0, 0, 'o', color='red', ms=5)\n",
    "p"
   ]
  },
  {
   "cell_type": "markdown",
   "id": "25a4c118-65fd-4d90-89e9-2cf901239c56",
   "metadata": {},
   "source": [
    "To avoid skew in future comparisons of integrated intensities between the different regions of the detector panel,\n",
    "we mask out the sample holder, using a low-counts threshold.\n",
    "This also masks out the edges of the panel, which show visible artifacts.\n",
    "We also mask out a region in the bottom right corner where a group of hot pixels is apparent.\n",
    "Finally, there is a single hot pixel in the detector on the right edge of the panel with counts in excess of 1000,\n",
    "which we also remove."
   ]
  },
  {
   "cell_type": "code",
   "execution_count": null,
   "id": "7bf3c65d-09b4-4e17-97d0-d2039bb1b05d",
   "metadata": {},
   "outputs": [],
   "source": [
    "masked = pipeline.compute(MaskedData[SampleRun])\n",
    "\n",
    "p = plot_flat_detector_xy(masked.sum('tof'), norm='log')\n",
    "p.ax.plot(0, 0, 'o', color='violet', ms=5)\n",
    "p"
   ]
  },
  {
   "cell_type": "code",
   "execution_count": null,
   "id": "3e12f295-44ee-4359-9329-3a0163b381d8",
   "metadata": {},
   "outputs": [],
   "source": [
    "masked.masks['low_counts'] = masked.sum('tof').data < sc.scalar(70., unit='counts')\n",
    "\n",
    "p = plot_flat_detector_xy(masked.sum('tof'), norm='log')\n",
    "p.ax.plot(0, 0, 'o', color='violet', ms=5)\n",
    "p"
   ]
  },
  {
   "cell_type": "markdown",
   "id": "8e8d553c-b79a-4caa-b875-5583f4454097",
   "metadata": {},
   "source": [
    "## First method: center-of-mass calculation"
   ]
  },
  {
   "cell_type": "code",
   "execution_count": null,
   "id": "c0e4b26a-4143-4e8d-9061-bb5f25d5553a",
   "metadata": {},
   "outputs": [],
   "source": [
    "pipeline.visualize(BeamCenter, graph_attr={'rankdir': 'LR'})"
   ]
  },
  {
   "cell_type": "code",
   "execution_count": null,
   "id": "642192bc-4e94-468c-bc37-5e0920e6b47d",
   "metadata": {},
   "outputs": [],
   "source": [
    "com = pipeline.compute(BeamCenter)\n",
    "com"
   ]
  },
  {
   "cell_type": "code",
   "execution_count": null,
   "id": "efe93767-b170-4560-9afd-a6e7a6056344",
   "metadata": {},
   "outputs": [],
   "source": [
    "xc = com.fields.x\n",
    "yc = com.fields.y\n",
    "p.ax.plot(xc.value, yc.value, 'o', color='r', ms=5)\n",
    "p"
   ]
  },
  {
   "cell_type": "markdown",
   "id": "35ba00f1-705e-4307-b338-893323bf3e20",
   "metadata": {},
   "source": [
    "## Second method: refinement using I(Q) inside 4 quadrants"
   ]
  },
  {
   "cell_type": "markdown",
   "id": "0061b064-c348-4ef4-8d4c-03e729f69074",
   "metadata": {},
   "source": [
    "### Description of the procedure\n",
    "\n",
    "The procedure to determine the precise location of the beam center is the following:\n",
    "\n",
    "1. use the center-of-mass as an initial guess\n",
    "2. from that initial guess, divide the panel into 4 quadrants\n",
    "3. compute $I(Q)$ inside each quadrant and compute the residual difference between all 4 quadrants\n",
    "4. iteratively move the centre position and repeat 2. and 3. until all 4 $I(Q)$ curves lie on top of each other"
   ]
  },
  {
   "cell_type": "code",
   "execution_count": null,
   "id": "f43d6ddd-6106-4b8e-bc81-5f7b98b58078",
   "metadata": {},
   "outputs": [],
   "source": [
    "params[WavelengthBins] = sc.linspace(\n",
    "    'wavelength', start=2.0, stop=16.0, num=141, unit='angstrom'\n",
    ")\n",
    "params[WavelengthMask] = sc.DataArray(\n",
    "    data=sc.array(dims=['wavelength'], values=[True]),\n",
    "    coords={\n",
    "        'wavelength': sc.array(\n",
    "            dims=['wavelength'], values=[2.21, 2.59], unit='angstrom'\n",
    "        )\n",
    "    },\n",
    ")\n",
    "params[FileList[TransmissionRun[SampleRun]]] = params[FileList[SampleRun]]\n",
    "params[FileList[EmptyBeamRun]] = ['SANS2D00063091.hdf5']\n",
    "\n",
    "params[NonBackgroundWavelengthRange] = sc.array(\n",
    "    dims=['wavelength'], values=[0.7, 17.1], unit='angstrom'\n",
    ")\n",
    "params[CorrectForGravity] = True\n",
    "params[UncertaintyBroadcastMode] = UncertaintyBroadcastMode.upper_bound\n",
    "\n",
    "params[sans.beam_center_finder.BeamCenterFinderQBins] = sc.linspace(\n",
    "        'Q', 0.02, 0.3, 71, unit='1/angstrom'\n",
    "    )\n",
    "\n",
    "providers.remove(sans.beam_center_finder.beam_center_from_center_of_mass)\n",
    "providers.append(sans.beam_center_finder.beam_center_from_iofq)\n",
    "pipeline = sciline.Pipeline(providers, params=params)\n",
    "pipeline.visualize(BeamCenter, graph_attr={'rankdir': 'LR'})"
   ]
  },
  {
   "cell_type": "markdown",
   "id": "afbf9a8c-4fc7-4eb3-a477-111baa047b18",
   "metadata": {},
   "source": [
    "### Making 4 quadrants\n",
    "\n",
    "We divide the panel into 4 quadrants."
   ]
  },
  {
   "cell_type": "code",
   "execution_count": null,
   "id": "bfdb5422-4c71-4e65-a4be-e7fd6042c203",
   "metadata": {
    "tags": []
   },
   "outputs": [],
   "source": [
    "p = plot_flat_detector_xy(masked.sum('tof'), norm='log')\n",
    "p.ax.plot(xc.value, yc.value, 'o', color='red', ms=5)\n",
    "p.ax.axvline(xc.value, color='cyan')\n",
    "p.ax.axhline(yc.value, color='cyan')\n",
    "dx = 0.25\n",
    "style = dict(ha='center', va='center', color='w')\n",
    "p.ax.text(xc.value + dx, yc.value + dx, 'North-East', **style)\n",
    "p.ax.text(xc.value - dx, yc.value + dx, 'North-West', **style)\n",
    "p.ax.text(xc.value + dx, yc.value - dx, 'South-East', **style)\n",
    "p.ax.text(xc.value - dx, yc.value - dx, 'South-West', **style)\n",
    "p"
   ]
  },
  {
   "cell_type": "markdown",
   "id": "dccb7b71-8236-4509-b8b1-c20bedfac317",
   "metadata": {},
   "source": [
    "### Compute $I(Q)$ inside the 4 quadrants\n",
    "\n",
    "We begin by defining several parameters which are required to compute $I(Q)$."
   ]
  },
  {
   "cell_type": "code",
   "execution_count": null,
   "id": "56960e8c-511b-45c6-b068-ff6a3905e2e4",
   "metadata": {},
   "outputs": [],
   "source": [
    "kwargs = dict(data= masked,\n",
    "norm=pipeline.compute(NormWavelengthTerm[SampleRun]),\n",
    "graph=pipeline.compute(sans.conversions.ElasticCoordTransformGraph),\n",
    "q_bins=params[sans.beam_center_finder.BeamCenterFinderQBins],\n",
    "wavelength_bins=params[WavelengthBins],\n",
    "transform=pipeline.compute(LabFrameTransform[SampleRun]),\n",
    "pixel_shape=pipeline.compute(DetectorPixelShape[SampleRun]))"
   ]
  },
  {
   "cell_type": "code",
   "execution_count": null,
   "id": "224eb405-f167-4337-91a3-860d56ae8a0c",
   "metadata": {},
   "outputs": [],
   "source": [
    "from esssans.beam_center_finder import _iofq_in_quadrants\n",
    "\n",
    "results = _iofq_in_quadrants(\n",
    "    xy=[xc.value, yc.value],\n",
    "    **kwargs,\n",
    ")"
   ]
  },
  {
   "cell_type": "markdown",
   "id": "31e5b9f9-b0a3-4010-83e8-690fda6e3f76",
   "metadata": {},
   "source": [
    "We can now plot on the same figure all 4 $I(Q)$ curves for each quadrant."
   ]
  },
  {
   "cell_type": "code",
   "execution_count": null,
   "id": "007524f6-96b6-4bf7-9130-8d42db118b95",
   "metadata": {
    "tags": []
   },
   "outputs": [],
   "source": [
    "pp.plot(results, norm='log')"
   ]
  },
  {
   "cell_type": "markdown",
   "id": "db6a4f3e-3edf-4eae-8662-b971d9e6e19a",
   "metadata": {},
   "source": [
    "As we can see, the overlap between the curves from the 4 quadrants is not satisfactory.\n",
    "We will now use an iterative procedure to improve our initial guess, until a good overlap between the curves is found.\n",
    "\n",
    "For this, we first define a cost function, which gives us an idea of how good the overlap is:\n",
    "\n",
    "$$\n",
    "\\text{cost} = \\frac{\\sum_{Q}\\sum_{i=1}^{i=4} \\overline{I}(Q)\\left(I(Q)_{i} - \\overline{I}(Q)\\right)^2}{\\sum_{Q}\\overline{I}(Q)} ~,\n",
    "$$\n",
    "\n",
    "where $\\overline{I}(Q)$ is the mean intensity of the 4 quadrants (represented by $i$) as a function of $Q$.\n",
    "This is basically a weighted mean of the square of the differences between the $I(Q)$ curves in the 4 quadrants with respect to $\\overline{I}(Q)$,\n",
    "and where the weights are $\\overline{I}(Q)$.\n",
    "\n",
    "Next, we iteratively minimize the computed cost\n",
    "(this is using Scipy's `optimize.minimize` utility internally;\n",
    "see [here](https://docs.scipy.org/doc/scipy/reference/generated/scipy.optimize.minimize.html) for more details)."
   ]
  },
  {
   "cell_type": "code",
   "execution_count": null,
   "id": "a46560bb-d2ab-483f-8b7e-1292a029c2c8",
   "metadata": {},
   "outputs": [],
   "source": [
    "xc"
   ]
  },
  {
   "cell_type": "code",
   "execution_count": null,
   "id": "27898815-7742-4990-853f-15d665f0337e",
   "metadata": {
    "tags": []
   },
   "outputs": [],
   "source": [
    "from scipy.optimize import minimize\n",
    "\n",
    "# The minimizer works best if given bounds, which are the bounds of our detector panel\n",
    "x = masked.coords['position'].fields.x\n",
    "y = masked.coords['position'].fields.y\n",
    "\n",
    "res = minimize(\n",
    "    sans.beam_center_finder._cost,\n",
    "    x0=[xc.value, yc.value],\n",
    "    args=tuple(kwargs.values()),\n",
    "    bounds=[(x.min().value, x.max().value), (y.min().value, y.max().value)],\n",
    "    method='Nelder-Mead',\n",
    "    tol=0.01,\n",
    ")\n",
    "\n",
    "res"
   ]
  },
  {
   "cell_type": "markdown",
   "id": "b8f125a8-38ec-4792-8e82-4d2b2e4860e4",
   "metadata": {},
   "source": [
    "Once the iterations completed, the returned object contains the best estimate for the beam center:"
   ]
  },
  {
   "cell_type": "code",
   "execution_count": null,
   "id": "81965cb9-bb34-4662-9210-e2904952759c",
   "metadata": {
    "tags": []
   },
   "outputs": [],
   "source": [
    "res.x"
   ]
  },
  {
   "cell_type": "markdown",
   "id": "9d7e7739-935d-46fa-88eb-5367d70f8278",
   "metadata": {},
   "source": [
    "We can now feed this value again into our `iofq_in_quadrants` function, to inspect the $Q$ intensity in all 4 quadrants:"
   ]
  },
  {
   "cell_type": "code",
   "execution_count": null,
   "id": "bba5ad6e-294d-4549-8a2b-74e693f1f923",
   "metadata": {
    "tags": []
   },
   "outputs": [],
   "source": [
    "xy = [ 0.09329701, -0.08079138]\n",
    "\n",
    "results = _iofq_in_quadrants(\n",
    "    # xy=[res.x[0], res.x[1]],\n",
    "    xy=xy,\n",
    "    **kwargs,\n",
    ")\n",
    "\n",
    "pp.plot(results, norm='log')"
   ]
  },
  {
   "cell_type": "markdown",
   "id": "389c0133-839d-46da-934c-bfcc5e2e5aab",
   "metadata": {},
   "source": [
    "The overlap between the curves is excellent, allowing us to safely perform an azimuthal summation of the counts around the beam center.\n",
    "\n",
    "As a consistency check, we plot the refined beam center position onto the detector panel image:"
   ]
  },
  {
   "cell_type": "code",
   "execution_count": null,
   "id": "f627d98e-5c3f-404e-b6f6-59ba2386a5bb",
   "metadata": {
    "tags": []
   },
   "outputs": [],
   "source": [
    "p = sample.sum('tof').copy().hist(y=120, x=128).plot(norm='log', aspect='equal')\n",
    "p.ax.plot(res.x[0], res.x[1], 'o', color='red', ms=5)\n",
    "p"
   ]
  },
  {
   "cell_type": "code",
   "execution_count": null,
   "id": "6d026294-cbb0-4c2d-bcda-2ec9220a0e66",
   "metadata": {},
   "outputs": [],
   "source": [
    "p = plot_flat_detector_xy(masked.sum('tof'), norm='log')\n",
    "p.ax.plot(res.x[0], res.x[1], 'o', color='red', ms=5)\n",
    "# p.ax.axvline(xc.value, color='cyan')\n",
    "# p.ax.axhline(yc.value, color='cyan')\n",
    "p"
   ]
  },
  {
   "cell_type": "markdown",
   "id": "0c58240d-7034-4467-b86c-d2f985a86e8c",
   "metadata": {},
   "source": [
    "## Footnotes"
   ]
  },
  {
   "cell_type": "markdown",
   "id": "d723ce70-f424-477b-94e9-29d6fbed802e",
   "metadata": {},
   "source": [
    "<div id='footnote1'></div>\n",
    "\n",
    "1. In the full $I(Q)$ reduction, there is a term $D(\\lambda)$ in the normalization called the \"direct beam\" which gives the efficiency of the detectors as a function of wavelength.\n",
    "Because finding the beam center is required to compute the direct beam in the first place,\n",
    "we do not include this term in the computation of $I(Q)$ for finding the beam center.\n",
    "This changes the shape of the $I(Q)$ curve, but since it changes it in the same manner for all $\\phi$ angles,\n",
    "this does not affect the results for finding the beam center."
   ]
  }
 ],
 "metadata": {
  "kernelspec": {
   "display_name": "Python 3 (ipykernel)",
   "language": "python",
   "name": "python3"
  },
  "language_info": {
   "codemirror_mode": {
    "name": "ipython",
    "version": 3
   },
   "file_extension": ".py",
   "mimetype": "text/x-python",
   "name": "python",
   "nbconvert_exporter": "python",
   "pygments_lexer": "ipython3",
   "version": "3.10.12"
  }
 },
 "nbformat": 4,
 "nbformat_minor": 5
}
