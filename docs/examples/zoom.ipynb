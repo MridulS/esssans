{
 "cells": [
  {
   "cell_type": "markdown",
   "id": "ba4d302c",
   "metadata": {},
   "source": [
    "# Zoom data reduction"
   ]
  },
  {
   "cell_type": "code",
   "execution_count": null,
   "id": "319162e9",
   "metadata": {},
   "outputs": [],
   "source": [
    "import numpy as np\n",
    "import scipp as sc\n",
    "import sciline\n",
    "import scippneutron as scn\n",
    "import plopp\n",
    "import esssans as sans\n",
    "import esssans.isis\n",
    "from esssans.types import *"
   ]
  },
  {
   "cell_type": "code",
   "execution_count": null,
   "id": "9e7cfc82",
   "metadata": {},
   "outputs": [],
   "source": [
    "root = '/home/simon/instruments/zoom/ZOOM_Scipp'\n",
    "params = {\n",
    "    sans.types.DirectBeamFilename: f'{root}/Direct_Zoom_4m_8mm_100522.txt',\n",
    "    sans.isis.Filename[sans.types.SampleRun]: f'{root}/ZOOM00034786.nxs',\n",
    "    sans.isis.Filename[sans.types.EmptyBeamRun]: f'{root}/ZOOM00034787.nxs',\n",
    "}\n",
    "masks = [\n",
    "    'andru_test.xml',\n",
    "    'left_beg_18_2.xml',\n",
    "    'right_beg_18_2.xml',\n",
    "    'small_bs_232.xml',\n",
    "    'small_BS_31032023.xml',\n",
    "    'tube_1120_bottom.xml',\n",
    "    'tubes_beg_18_2.xml',\n",
    "]\n",
    "mask_paths = [f'{root}/{mask}' for mask in masks]\n",
    "masks = sciline.ParamTable(str, {sans.isis.PixelMaskFilename: mask_paths}, index=masks)"
   ]
  },
  {
   "cell_type": "code",
   "execution_count": null,
   "id": "f817493f",
   "metadata": {},
   "outputs": [],
   "source": [
    "def get_transmission_data(\n",
    "    data: LoadedFileContents[SampleRun],\n",
    ") -> LoadedFileContents[TransmissionRun[SampleRun]]:\n",
    "    return data"
   ]
  },
  {
   "cell_type": "markdown",
   "id": "30bf98f2",
   "metadata": {},
   "source": [
    "## Notes\n",
    "\n",
    "- Calibration file is not loaded or handled yet.\n",
    "- TOF or wavelength masks\n",
    "- log binning\n",
    "- position corrections from use file"
   ]
  },
  {
   "cell_type": "code",
   "execution_count": null,
   "id": "50f11eb2",
   "metadata": {},
   "outputs": [],
   "source": [
    "params[NeXusMonitorName[Incident]] = 'monitor3'\n",
    "params[NeXusMonitorName[Transmission]] = 'monitor5'\n",
    "\n",
    "band = sc.linspace('wavelength', 1.75, 16.5, num=2, unit='angstrom')\n",
    "params[WavelengthBands] = band\n",
    "params[WavelengthBins] = sc.linspace(\n",
    "    'wavelength', start=band[0], stop=band[-1], num=141\n",
    ")\n",
    "\n",
    "# mask_interval = sc.array(dims=['wavelength'], values=[2.21, 2.59], unit='angstrom')\n",
    "# params[WavelengthMask] = sc.DataArray(\n",
    "#     sc.array(dims=['wavelength'], values=[True]),\n",
    "#     coords={'wavelength': mask_interval},\n",
    "# )\n",
    "\n",
    "params[QBins] = sc.linspace(dim='Q', start=0.004, stop=0.8, num=141, unit='1/angstrom')\n",
    "params[NonBackgroundWavelengthRange] = sc.array(\n",
    "    dims=['wavelength'], values=[0.7, 17.1], unit='angstrom'\n",
    ")\n",
    "params[CorrectForGravity] = True\n",
    "params[UncertaintyBroadcastMode] = UncertaintyBroadcastMode.upper_bound"
   ]
  },
  {
   "cell_type": "code",
   "execution_count": null,
   "id": "fdcaec37",
   "metadata": {},
   "outputs": [],
   "source": [
    "providers = (\n",
    "    sans.providers\n",
    "    + sans.isis.providers\n",
    "    + (get_transmission_data,)\n",
    "    + sans.sans2d.general_providers\n",
    ")\n",
    "pipeline = sciline.Pipeline(providers, params=params)\n",
    "pipeline.set_param_table(masks)"
   ]
  },
  {
   "cell_type": "code",
   "execution_count": null,
   "id": "1ee4544e",
   "metadata": {},
   "outputs": [],
   "source": [
    "pipeline.visualize(MaskedData[SampleRun], graph_attr={'rankdir': 'LR'})"
   ]
  },
  {
   "cell_type": "code",
   "execution_count": null,
   "id": "ece01711",
   "metadata": {},
   "outputs": [],
   "source": [
    "da = pipeline.get(CalibratedMaskedData[SampleRun]).compute()\n",
    "scn.instrument_view(da.hist(), pixel_size=0.01, norm='log')"
   ]
  },
  {
   "cell_type": "code",
   "execution_count": null,
   "id": "cae69232",
   "metadata": {},
   "outputs": [],
   "source": [
    "iofq = pipeline.get(IofQ[SampleRun])\n",
    "iofq.visualize(graph_attr={'rankdir': 'LR'})"
   ]
  },
  {
   "cell_type": "code",
   "execution_count": null,
   "id": "558327ff",
   "metadata": {},
   "outputs": [],
   "source": [
    "%matplotlib widget\n",
    "da = iofq.compute()\n",
    "da.plot()"
   ]
  },
  {
   "cell_type": "code",
   "execution_count": null,
   "id": "bb922379",
   "metadata": {},
   "outputs": [],
   "source": [
    "monitors = (\n",
    "    WavelengthMonitor[SampleRun, Incident],\n",
    "    WavelengthMonitor[SampleRun, Transmission],\n",
    ")\n",
    "parts = (CleanSummedQ[SampleRun, Numerator], CleanSummedQ[SampleRun, Denominator])\n",
    "iofqs = (IofQ[SampleRun],)\n",
    "keys = monitors + (MaskedData[SampleRun],) + parts + iofqs\n",
    "\n",
    "results = pipeline.compute(keys)\n",
    "\n",
    "display(sc.plot({str(key): results[key] for key in monitors}, norm='log'))\n",
    "\n",
    "display(\n",
    "    scn.instrument_view(\n",
    "        results[MaskedData[SampleRun]].hist(),\n",
    "        pixel_size=0.0075,\n",
    "        norm='log',\n",
    "        camera=plopp.graphics.Camera(position=(0, 0, 22)),\n",
    "    )\n",
    ")\n",
    "\n",
    "parts = {str(key): results[key] for key in parts}\n",
    "parts = {key: val if val.bins is None else val.hist() for key, val in parts.items()}\n",
    "display(sc.plot(parts, norm='log'))\n",
    "\n",
    "iofqs = {str(key): results[key] for key in iofqs}\n",
    "iofqs = {key: val if val.bins is None else val.hist() for key, val in iofqs.items()}\n",
    "display(sc.plot(iofqs, norm='log'))"
   ]
  }
 ],
 "metadata": {
  "kernelspec": {
   "display_name": "Python 3 (ipykernel)",
   "language": "python",
   "name": "python3"
  },
  "language_info": {
   "codemirror_mode": {
    "name": "ipython",
    "version": 3
   },
   "file_extension": ".py",
   "mimetype": "text/x-python",
   "name": "python",
   "nbconvert_exporter": "python",
   "pygments_lexer": "ipython3",
   "version": "3.10.12"
  }
 },
 "nbformat": 4,
 "nbformat_minor": 5
}
