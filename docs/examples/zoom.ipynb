{
 "cells": [
  {
   "cell_type": "code",
   "execution_count": null,
   "id": "319162e9",
   "metadata": {},
   "outputs": [],
   "source": [
    "import numpy as np\n",
    "import scipp as sc\n",
    "import sciline\n",
    "import scippneutron as scn\n",
    "import plopp\n",
    "import esssans as sans\n",
    "import esssans.isis\n",
    "from esssans.types import *"
   ]
  },
  {
   "cell_type": "code",
   "execution_count": null,
   "id": "9e7cfc82",
   "metadata": {},
   "outputs": [],
   "source": [
    "root = '/home/simon/instruments/zoom/ZOOM_Scipp'\n",
    "params = {\n",
    "    sans.isis.IDFFilename: '/home/simon/mambaforge/envs/mantid310/instrument/ZOOM_Definition.xml',\n",
    "    sans.types.DirectBeamFilename: f'{root}/Direct_Zoom_4m_8mm_100522.txt',\n",
    "    sans.isis.Filename[sans.types.SampleRun]: f'{root}/ZOOM00034786.nxs',\n",
    "    sans.isis.Filename[sans.types.EmptyBeamRun]: f'{root}/ZOOM00034787.nxs',\n",
    "}\n",
    "masks = ['small_bs_232.xml', 'tube_1120_bottom.xml']\n",
    "masks = ['small_bs_232.xml']\n",
    "mask_paths = [f'{root}/{mask}' for mask in masks]\n",
    "masks = sciline.ParamTable(str, {sans.isis.PixelMaskFilename: mask_paths}, index=masks)"
   ]
  },
  {
   "cell_type": "code",
   "execution_count": null,
   "id": "f817493f",
   "metadata": {},
   "outputs": [],
   "source": [
    "def get_transmission_data(\n",
    "    data: LoadedFileContents[SampleRun],\n",
    ") -> LoadedFileContents[TransmissionRun[SampleRun]]:\n",
    "    return data"
   ]
  },
  {
   "cell_type": "code",
   "execution_count": null,
   "id": "50f11eb2",
   "metadata": {},
   "outputs": [],
   "source": [
    "# TODO Check monitor names\n",
    "params[NeXusMonitorName[Incident]] = 'monitor3'\n",
    "params[NeXusMonitorName[Transmission]] = 'monitor5'\n",
    "# No separate transmission run\n",
    "# params[LoadedFileContents[TransmissionRun[SampleRun]]] = params[\n",
    "#    LoadedFileContents[SampleRun]\n",
    "# ]\n",
    "\n",
    "# TODO How to load calibration\n",
    "# TODO How to load or apply masks?\n",
    "# TODO What is the moderator file?\n",
    "\n",
    "\n",
    "band = sc.linspace('wavelength', 1.75, 16.5, num=2, unit='angstrom')\n",
    "params[WavelengthBands] = band\n",
    "params[WavelengthBins] = sc.linspace(\n",
    "    'wavelength', start=band[0], stop=band[-1], num=141\n",
    ")\n",
    "\n",
    "# mask_interval = sc.array(dims=['wavelength'], values=[2.21, 2.59], unit='angstrom')\n",
    "# params[WavelengthMask] = sc.DataArray(\n",
    "#     sc.array(dims=['wavelength'], values=[True]),\n",
    "#     coords={'wavelength': mask_interval},\n",
    "# )\n",
    "\n",
    "params[QBins] = sc.linspace(dim='Q', start=0.004, stop=0.8, num=141, unit='1/angstrom')\n",
    "params[NonBackgroundWavelengthRange] = sc.array(\n",
    "    dims=['wavelength'], values=[0.7, 17.1], unit='angstrom'\n",
    ")\n",
    "params[CorrectForGravity] = True\n",
    "params[UncertaintyBroadcastMode] = UncertaintyBroadcastMode.upper_bound"
   ]
  },
  {
   "cell_type": "code",
   "execution_count": null,
   "id": "fdcaec37",
   "metadata": {},
   "outputs": [],
   "source": [
    "providers = (\n",
    "    sans.providers\n",
    "    + sans.isis.providers\n",
    "    + (get_transmission_data,)\n",
    "    + sans.sans2d.general_providers\n",
    ")\n",
    "pipeline = sciline.Pipeline(providers, params=params)\n",
    "pipeline.set_param_table(masks)"
   ]
  },
  {
   "cell_type": "code",
   "execution_count": null,
   "id": "1ee4544e",
   "metadata": {},
   "outputs": [],
   "source": [
    "pipeline.visualize(MaskedData[SampleRun], graph_attr={'rankdir': 'LR'})"
   ]
  },
  {
   "cell_type": "code",
   "execution_count": null,
   "id": "2478790d",
   "metadata": {},
   "outputs": [],
   "source": [
    "pipeline.compute(MaskedData[SampleRun])"
   ]
  },
  {
   "cell_type": "code",
   "execution_count": null,
   "id": "cae69232",
   "metadata": {},
   "outputs": [],
   "source": [
    "iofq = pipeline.get(IofQ[SampleRun])\n",
    "iofq.visualize(graph_attr={'rankdir': 'LR'})"
   ]
  },
  {
   "cell_type": "code",
   "execution_count": null,
   "id": "558327ff",
   "metadata": {},
   "outputs": [],
   "source": [
    "%matplotlib widget\n",
    "da = iofq.compute()\n",
    "da.plot()"
   ]
  },
  {
   "cell_type": "markdown",
   "id": "c2ea80cb",
   "metadata": {},
   "source": [
    "To do:\n",
    "- beam center finder flatten issue\n",
    "- zoom files via scippneutron.load_with_mantid\n",
    "- load masks with mantid?\n",
    "- `direct_beam = loki.io.load_rkh_wav(f'{path}/DirectBeam_20feb_full_v3.dat')`\n",
    "- make providers from mantid loaders\n",
    "- add files to pooch for testing?\n",
    "```\n",
    "mask_file = f'{path}/mask_new_July2022.xml'\n",
    "mask_all = scn.load(filename=idf_filename, mantid_alg=\"LoadMask\", mantid_args={\"InputFile\": mask_file})\n",
    "```"
   ]
  },
  {
   "cell_type": "code",
   "execution_count": null,
   "id": "3f7968ae",
   "metadata": {},
   "outputs": [],
   "source": [
    "root = '/home/simon/instruments/zoom/ZOOM_Scipp'\n",
    "\n",
    "run86 = sc.io.load_hdf5(f'{root}/ZOOM00034786.nxs.hdf5')\n",
    "run87 = sc.io.load_hdf5(f'{root}/ZOOM00034787.nxs.hdf5')\n",
    "cal = sc.io.load_hdf5(f'{root}/192tubeCalibration_11-02-2019_r5_10lines.nxs.hdf5')\n",
    "\n",
    "run86['data'].coords[\"gravity\"] = sans.common.gravity_vector()"
   ]
  },
  {
   "cell_type": "code",
   "execution_count": null,
   "id": "d4915162",
   "metadata": {},
   "outputs": [],
   "source": [
    "# da = pipeline.get(RawData[SampleRun]).compute()\n",
    "da = pipeline.get(CalibratedMaskedData[SampleRun]).compute()\n",
    "scn.instrument_view(da.hist(), pixel_size=0.01, norm='log')"
   ]
  },
  {
   "cell_type": "code",
   "execution_count": null,
   "id": "fc247f21",
   "metadata": {},
   "outputs": [],
   "source": [
    "da = pipeline.get(RawData[BackgroundRun]).compute()\n",
    "scn.instrument_view(da.hist(), pixel_size=0.01, norm='log')"
   ]
  },
  {
   "cell_type": "code",
   "execution_count": null,
   "id": "a48c0f4d",
   "metadata": {},
   "outputs": [],
   "source": [
    "# iofq = pipeline.get(BackgroundSubtractedIofQ)\n",
    "iofq = pipeline.get(IofQ[SampleRun])"
   ]
  },
  {
   "cell_type": "markdown",
   "id": "f39206c6",
   "metadata": {},
   "source": [
    "### Compute intermediate results\n",
    "\n",
    "For inspection and debugging purposes we can also compute intermediate results.\n",
    "To avoid repeated computation (including costly loading of files) we can request multiple results at once, including the final result, if desired.\n",
    "For example:"
   ]
  },
  {
   "cell_type": "code",
   "execution_count": null,
   "id": "bb922379",
   "metadata": {},
   "outputs": [],
   "source": [
    "monitors = (\n",
    "    WavelengthMonitor[SampleRun, Incident],\n",
    "    WavelengthMonitor[SampleRun, Transmission],\n",
    "    # WavelengthMonitor[BackgroundRun, Incident],\n",
    "    # WavelengthMonitor[BackgroundRun, Transmission],\n",
    ")\n",
    "parts = (CleanSummedQ[SampleRun, Numerator], CleanSummedQ[SampleRun, Denominator])\n",
    "iofqs = (IofQ[SampleRun],)\n",
    "keys = monitors + (MaskedData[SampleRun],) + parts + iofqs\n",
    "\n",
    "results = pipeline.compute(keys)\n",
    "\n",
    "display(sc.plot({str(key): results[key] for key in monitors}, norm='log'))\n",
    "\n",
    "display(\n",
    "    scn.instrument_view(\n",
    "        results[MaskedData[SampleRun]].hist(),\n",
    "        pixel_size=0.0075,\n",
    "        norm='log',\n",
    "        camera=pp.graphics.Camera(position=(0, 0, 22)),\n",
    "    )\n",
    ")\n",
    "\n",
    "parts = {str(key): results[key] for key in parts}\n",
    "parts = {key: val if val.bins is None else val.hist() for key, val in parts.items()}\n",
    "display(sc.plot(parts, norm='log'))\n",
    "\n",
    "iofqs = {str(key): results[key] for key in iofqs}\n",
    "iofqs = {key: val if val.bins is None else val.hist() for key, val in iofqs.items()}\n",
    "display(sc.plot(iofqs, norm='log'))"
   ]
  }
 ],
 "metadata": {
  "kernelspec": {
   "display_name": "Python 3 (ipykernel)",
   "language": "python",
   "name": "python3"
  },
  "language_info": {
   "codemirror_mode": {
    "name": "ipython",
    "version": 3
   },
   "file_extension": ".py",
   "mimetype": "text/x-python",
   "name": "python",
   "nbconvert_exporter": "python",
   "pygments_lexer": "ipython3",
   "version": "3.10.12"
  }
 },
 "nbformat": 4,
 "nbformat_minor": 5
}
