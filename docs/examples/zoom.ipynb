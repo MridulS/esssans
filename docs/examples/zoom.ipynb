{
 "cells": [
  {
   "cell_type": "markdown",
   "id": "c2ea80cb",
   "metadata": {},
   "source": [
    "To do:\n",
    "- beam center finder flatten issue\n",
    "- zoom files via scippneutron.load_with_mantid\n",
    "- load masks with mantid?\n",
    "- `direct_beam = loki.io.load_rkh_wav(f'{path}/DirectBeam_20feb_full_v3.dat')`\n",
    "- make providers from mantid loaders\n",
    "- add files to pooch for testing?\n",
    "```\n",
    "mask_file = f'{path}/mask_new_July2022.xml'\n",
    "mask_all = scn.load(filename=idf_filename, mantid_alg=\"LoadMask\", mantid_args={\"InputFile\": mask_file})\n",
    "```"
   ]
  },
  {
   "cell_type": "code",
   "execution_count": null,
   "id": "05144136",
   "metadata": {},
   "outputs": [],
   "source": [
    "from mantid.simpleapi import *\n",
    "\n",
    "root = '/home/simon/instruments/zoom/ZOOM_Scipp'\n",
    "name86 = 'ZOOM00034786.nxs'\n",
    "\n",
    "ws, mons = Load(Filename=f'{root}/{name86}', LoadMonitors=True)\n",
    "\n",
    "# import scippneutron as scn\n",
    "# scn.from_mantid(mons)['data']\n",
    "ws"
   ]
  },
  {
   "cell_type": "code",
   "execution_count": null,
   "id": "a545880e",
   "metadata": {},
   "outputs": [],
   "source": [
    "from mantid.simpleapi import Load, LoadInstrument\n",
    "import scippneutron as scn\n",
    "\n",
    "root = '/home/simon/instruments/zoom/ZOOM_Scipp'\n",
    "\n",
    "\n",
    "def to_scipp_hdf5(name: str):\n",
    "    # ws, mon = Load(Filename=f'{root}/{name}', LoadMonitors=True)\n",
    "    # cal = Load(Filename=f'{root}/192tubeCalibration_11-02-2019_r5_10lines.nxs')\n",
    "    # dg = scn.from_mantid(ws)\n",
    "    dg = scn.load_with_mantid(f'{root}/{name}', mantid_args={'LoadMonitors': True})\n",
    "    dg.save_hdf5(f'{root}/{name}.hdf5')\n",
    "\n",
    "\n",
    "to_scipp_hdf5('ZOOM00034786.nxs')\n",
    "to_scipp_hdf5('ZOOM00034787.nxs')\n",
    "to_scipp_hdf5('192tubeCalibration_11-02-2019_r5_10lines.nxs')"
   ]
  },
  {
   "cell_type": "code",
   "execution_count": null,
   "id": "a488fa74",
   "metadata": {},
   "outputs": [],
   "source": [
    "import scippnexus as snx\n",
    "\n",
    "with snx.File(f'{root}/{name86}', 'r') as f:\n",
    "    dg86 = f['raw_data_1'][()]\n",
    "\n",
    "dg86"
   ]
  },
  {
   "cell_type": "markdown",
   "id": "9a935df3-c816-4829-99c3-2afa979b7611",
   "metadata": {},
   "source": [
    "# Sans2d data reduction\n",
    "\n",
    "## Introduction\n",
    "\n",
    "This notebook gives a concise overview of how to use the `esssans` package with Sciline, on the example of the data reduction of a Sans2d experiment.\n",
    "We begin with relevant imports:"
   ]
  },
  {
   "cell_type": "code",
   "execution_count": null,
   "id": "8c7f7cf7-0582-4953-a772-a0f87d1cf0e2",
   "metadata": {
    "tags": []
   },
   "outputs": [],
   "source": [
    "import numpy as np\n",
    "import scipp as sc\n",
    "import sciline\n",
    "import scippneutron as scn\n",
    "import plopp as pp\n",
    "import esssans as sans\n",
    "from esssans.types import *"
   ]
  },
  {
   "cell_type": "code",
   "execution_count": null,
   "id": "3f7968ae",
   "metadata": {},
   "outputs": [],
   "source": [
    "root = '/home/simon/instruments/zoom/ZOOM_Scipp'\n",
    "\n",
    "run86 = sc.io.load_hdf5(f'{root}/ZOOM00034786.nxs.hdf5')\n",
    "run87 = sc.io.load_hdf5(f'{root}/ZOOM00034787.nxs.hdf5')\n",
    "cal = sc.io.load_hdf5(f'{root}/192tubeCalibration_11-02-2019_r5_10lines.nxs.hdf5')\n",
    "\n",
    "run86['data'].coords[\"gravity\"] = sans.common.gravity_vector()"
   ]
  },
  {
   "cell_type": "code",
   "execution_count": null,
   "id": "dcc34236",
   "metadata": {},
   "outputs": [],
   "source": [
    "def load_direct_beam(filename: DirectBeamFilename) -> DirectBeam:\n",
    "    db = scn.load(\n",
    "        filename=filename,\n",
    "        mantid_alg='LoadRKH',\n",
    "        mantid_args={'FirstColumnValue': 'Wavelength'},\n",
    "    )\n",
    "    return DirectBeam(db)"
   ]
  },
  {
   "cell_type": "code",
   "execution_count": null,
   "id": "bc2fffe1-a694-43b7-9234-e31da42d6df3",
   "metadata": {
    "tags": []
   },
   "outputs": [],
   "source": [
    "params = sans.sans2d.default_parameters.copy()\n",
    "# TODO Check monitor names\n",
    "params[NeXusMonitorName[Incident]] = 'monitor3'\n",
    "params[NeXusMonitorName[Transmission]] = 'monitor5'\n",
    "\n",
    "# params[FileList[BackgroundRun]] = ['SANS2D00063159.hdf5']\n",
    "# params[FileList[SampleRun]] = ['SANS2D00063114.hdf5']\n",
    "# params[FileList[EmptyBeamRun]] = ['SANS2D00063091.hdf5']\n",
    "params[LoadedFileContents[SampleRun]] = run86\n",
    "# params[LoadedFileContents[BackgroundRun]]\n",
    "params[LoadedFileContents[EmptyBeamRun]] = run87\n",
    "# params[LoadedFileContents[TransmissionRun[BackgroundRun]]] = params[\n",
    "#    LoadedFileContents[BackgroundRun]\n",
    "# ]\n",
    "params[LoadedFileContents[TransmissionRun[SampleRun]]] = params[\n",
    "    LoadedFileContents[SampleRun]\n",
    "]\n",
    "params[DirectBeamFilename] = 'Direct_Zoom_4m_8mm_100522.txt'\n",
    "\n",
    "# TODO How to load calibration\n",
    "# TODO How to load or apply masks?\n",
    "# TODO What is the moderator file?\n",
    "\n",
    "params[OutFilename] = 'reduced.nxs'\n",
    "\n",
    "band = sc.linspace('wavelength', 1.75, 16.5, num=2, unit='angstrom')\n",
    "params[WavelengthBands] = band\n",
    "params[WavelengthBins] = sc.linspace(\n",
    "    'wavelength', start=band[0], stop=band[-1], num=141\n",
    ")\n",
    "\n",
    "params[sans.sans2d.LowCountThreshold] = sc.scalar(100, unit='counts')\n",
    "\n",
    "mask_interval = sc.array(dims=['wavelength'], values=[2.21, 2.59], unit='angstrom')\n",
    "params[WavelengthMask] = sc.DataArray(\n",
    "    sc.array(dims=['wavelength'], values=[True]),\n",
    "    coords={'wavelength': mask_interval},\n",
    ")\n",
    "\n",
    "params[QBins] = sc.linspace(dim='Q', start=0.004, stop=0.8, num=141, unit='1/angstrom')\n",
    "params[NonBackgroundWavelengthRange] = sc.array(\n",
    "    dims=['wavelength'], values=[0.7, 17.1], unit='angstrom'\n",
    ")\n",
    "params[CorrectForGravity] = False\n",
    "params[UncertaintyBroadcastMode] = UncertaintyBroadcastMode.upper_bound"
   ]
  },
  {
   "cell_type": "code",
   "execution_count": null,
   "id": "17a01c27",
   "metadata": {},
   "outputs": [],
   "source": [
    "providers = sans.providers + sans.sans2d.providers\n",
    "pipeline = sciline.Pipeline(providers, params=params)\n",
    "pipeline.insert(load_direct_beam)"
   ]
  },
  {
   "cell_type": "code",
   "execution_count": null,
   "id": "d4915162",
   "metadata": {},
   "outputs": [],
   "source": [
    "# da = pipeline.get(RawData[SampleRun]).compute()\n",
    "da = pipeline.get(CalibratedMaskedData[SampleRun]).compute()\n",
    "scn.instrument_view(da.hist(), pixel_size=0.01, norm='log')"
   ]
  },
  {
   "cell_type": "code",
   "execution_count": null,
   "id": "136a5f62",
   "metadata": {},
   "outputs": [],
   "source": [
    "da"
   ]
  },
  {
   "cell_type": "code",
   "execution_count": null,
   "id": "fc247f21",
   "metadata": {},
   "outputs": [],
   "source": [
    "da = pipeline.get(RawData[BackgroundRun]).compute()\n",
    "scn.instrument_view(da.hist(), pixel_size=0.01, norm='log')"
   ]
  },
  {
   "cell_type": "code",
   "execution_count": null,
   "id": "a48c0f4d",
   "metadata": {},
   "outputs": [],
   "source": [
    "# iofq = pipeline.get(BackgroundSubtractedIofQ)\n",
    "iofq = pipeline.get(IofQ[SampleRun])"
   ]
  },
  {
   "cell_type": "code",
   "execution_count": null,
   "id": "c8cf57ce",
   "metadata": {},
   "outputs": [],
   "source": [
    "%matplotlib widget\n",
    "result = iofq.compute()\n",
    "result.plot()"
   ]
  },
  {
   "cell_type": "code",
   "execution_count": null,
   "id": "aa3bb679",
   "metadata": {},
   "outputs": [],
   "source": [
    "iofq.visualize(graph_attr={'rankdir': 'LR'})"
   ]
  },
  {
   "cell_type": "markdown",
   "id": "f39206c6",
   "metadata": {},
   "source": [
    "### Compute intermediate results\n",
    "\n",
    "For inspection and debugging purposes we can also compute intermediate results.\n",
    "To avoid repeated computation (including costly loading of files) we can request multiple results at once, including the final result, if desired.\n",
    "For example:"
   ]
  },
  {
   "cell_type": "code",
   "execution_count": null,
   "id": "bb922379",
   "metadata": {},
   "outputs": [],
   "source": [
    "monitors = (\n",
    "    WavelengthMonitor[SampleRun, Incident],\n",
    "    WavelengthMonitor[SampleRun, Transmission],\n",
    "    # WavelengthMonitor[BackgroundRun, Incident],\n",
    "    # WavelengthMonitor[BackgroundRun, Transmission],\n",
    ")\n",
    "parts = (CleanSummedQ[SampleRun, Numerator], CleanSummedQ[SampleRun, Denominator])\n",
    "iofqs = (IofQ[SampleRun],)\n",
    "keys = monitors + (MaskedData[SampleRun],) + parts + iofqs\n",
    "\n",
    "results = pipeline.compute(keys)\n",
    "\n",
    "display(sc.plot({str(key): results[key] for key in monitors}, norm='log'))\n",
    "\n",
    "display(\n",
    "    scn.instrument_view(\n",
    "        results[MaskedData[SampleRun]].hist(),\n",
    "        pixel_size=0.0075,\n",
    "        norm='log',\n",
    "        camera=pp.graphics.Camera(position=(0, 0, 22)),\n",
    "    )\n",
    ")\n",
    "\n",
    "parts = {str(key): results[key] for key in parts}\n",
    "parts = {key: val if val.bins is None else val.hist() for key, val in parts.items()}\n",
    "display(sc.plot(parts, norm='log'))\n",
    "\n",
    "iofqs = {str(key): results[key] for key in iofqs}\n",
    "iofqs = {key: val if val.bins is None else val.hist() for key, val in iofqs.items()}\n",
    "display(sc.plot(iofqs, norm='log'))"
   ]
  }
 ],
 "metadata": {
  "kernelspec": {
   "display_name": "Python 3 (ipykernel)",
   "language": "python",
   "name": "python3"
  },
  "language_info": {
   "codemirror_mode": {
    "name": "ipython",
    "version": 3
   },
   "file_extension": ".py",
   "mimetype": "text/x-python",
   "name": "python",
   "nbconvert_exporter": "python",
   "pygments_lexer": "ipython3",
   "version": "3.10.12"
  }
 },
 "nbformat": 4,
 "nbformat_minor": 5
}
